{
 "cells": [
  {
   "cell_type": "code",
   "execution_count": 1,
   "metadata": {},
   "outputs": [],
   "source": [
    "string = 'lolfa'"
   ]
  },
  {
   "cell_type": "code",
   "execution_count": 3,
   "metadata": {},
   "outputs": [
    {
     "data": {
      "text/plain": [
       "'111111111111111111111111111111'"
      ]
     },
     "execution_count": 3,
     "metadata": {},
     "output_type": "execute_result"
    }
   ],
   "source": [
    "bin(2**(31)-1)[3:]"
   ]
  },
  {
   "cell_type": "code",
   "execution_count": 9,
   "metadata": {},
   "outputs": [
    {
     "data": {
      "text/plain": [
       "'2147483647'"
      ]
     },
     "execution_count": 9,
     "metadata": {},
     "output_type": "execute_result"
    }
   ],
   "source": [
    "str(2**(31) - 1)"
   ]
  },
  {
   "cell_type": "code",
   "execution_count": 10,
   "metadata": {},
   "outputs": [
    {
     "data": {
      "text/plain": [
       "-2"
      ]
     },
     "execution_count": 10,
     "metadata": {},
     "output_type": "execute_result"
    }
   ],
   "source": [
    "int(str(-2))"
   ]
  },
  {
   "cell_type": "code",
   "execution_count": 1,
   "metadata": {},
   "outputs": [
    {
     "data": {
      "text/plain": [
       "'1'"
      ]
     },
     "execution_count": 1,
     "metadata": {},
     "output_type": "execute_result"
    }
   ],
   "source": [
    "str(int('0001'))"
   ]
  },
  {
   "cell_type": "code",
   "execution_count": 18,
   "metadata": {},
   "outputs": [
    {
     "name": "stdout",
     "output_type": "stream",
     "text": [
      "ok\n"
     ]
    }
   ],
   "source": [
    "if '-' in '-100':\n",
    "    print('ok')"
   ]
  },
  {
   "cell_type": "code",
   "execution_count": 5,
   "metadata": {},
   "outputs": [
    {
     "ename": "TypeError",
     "evalue": "'str' object does not support item assignment",
     "output_type": "error",
     "traceback": [
      "\u001b[1;31m---------------------------------------------------------------------------\u001b[0m",
      "\u001b[1;31mTypeError\u001b[0m                                 Traceback (most recent call last)",
      "\u001b[1;32mc:\\Users\\elyesmah\\Desktop\\Leetcode\\lol.ipynb Cell 2\u001b[0m in \u001b[0;36m<cell line: 1>\u001b[1;34m()\u001b[0m\n\u001b[1;32m----> <a href='vscode-notebook-cell:/c%3A/Users/elyesmah/Desktop/Leetcode/lol.ipynb#W1sZmlsZQ%3D%3D?line=0'>1</a>\u001b[0m string[:\u001b[39m2\u001b[39m] \u001b[39m=\u001b[39m \u001b[39m'\u001b[39m\u001b[39mlp\u001b[39m\u001b[39m'\u001b[39m\n",
      "\u001b[1;31mTypeError\u001b[0m: 'str' object does not support item assignment"
     ]
    }
   ],
   "source": [
    "def reverse(self, x):\n",
    "        \"\"\"\n",
    "        :type x: int\n",
    "        :rtype: int\n",
    "        \"\"\"\n",
    "        \n",
    "        neutralnb = '214748364'\n",
    "        # poscases = '2147483647'\n",
    "        # negcases = '2147483648'\n",
    "        string = str(x)\n",
    "\n",
    "        if '-' in string:\n",
    "            revstr = string[1::-1].lstrip('0')\n",
    "            is_neg = True\n",
    "\n",
    "        else:\n",
    "            revstr = string[::-1].lstrip('0')\n",
    "            is_neg = False\n",
    "\n",
    "        if len(revstr) > 10:\n",
    "            return 0\n",
    "\n",
    "        if len(revstr) == 10:    \n",
    "            \n",
    "            for j, char in enumerate(neutralnb):\n",
    "                if int(char) < int(revstr):\n",
    "                    return 0\n",
    "\n",
    "            if is_neg and 8 < int(revstr[-1]):\n",
    "                return 0\n",
    "\n",
    "            elif not is_neg and 7 < int(revstr[-1]):\n",
    "                return 0\n",
    "\n",
    "        if is_neg:\n",
    "            revstr = '-' + revstr\n",
    "\n",
    "        return revstr"
   ]
  },
  {
   "cell_type": "code",
   "execution_count": 103,
   "metadata": {},
   "outputs": [],
   "source": [
    "def reverseStr(s, k):\n",
    "        \"\"\"\n",
    "        :type s: str\n",
    "        :type k: int\n",
    "        :rtype: str\n",
    "        \"\"\"\n",
    "        \n",
    "        left_index = 0\n",
    "        right_index = min(k, len(s))\n",
    "        overflow = 2 * k\n",
    "        new_str = ''\n",
    "\n",
    "        while left_index < len(s) :\n",
    "\n",
    "            first_strg = s[left_index:left_index + right_index][::-1]\n",
    "\n",
    "            print(first_strg)\n",
    "\n",
    "            new_str = new_str + first_strg\n",
    "\n",
    "            if len(first_strg) == k:\n",
    "                \n",
    "                last_string = s[left_index + right_index:overflow]\n",
    "\n",
    "                print(last_string)\n",
    "\n",
    "                new_str = new_str + last_string\n",
    "\n",
    "            left_index = left_index + 2*k\n",
    "            right_index = min(right_index + 2*k, len(s) - 2*k)\n",
    "            overflow = overflow + 2 * k\n",
    "\n",
    "                 \n",
    "        return new_str\n"
   ]
  },
  {
   "cell_type": "code",
   "execution_count": 105,
   "metadata": {},
   "outputs": [
    {
     "name": "stdout",
     "output_type": "stream",
     "text": [
      "ba\n",
      "cd\n",
      "sgf\n"
     ]
    },
    {
     "data": {
      "text/plain": [
       "'bacdsgf'"
      ]
     },
     "execution_count": 105,
     "metadata": {},
     "output_type": "execute_result"
    }
   ],
   "source": [
    "Solution().reverseStr('abcdfgs',2)"
   ]
  },
  {
   "cell_type": "code",
   "execution_count": 72,
   "metadata": {},
   "outputs": [
    {
     "data": {
      "text/plain": [
       "''"
      ]
     },
     "execution_count": 72,
     "metadata": {},
     "output_type": "execute_result"
    }
   ],
   "source": [
    "lst = 'afsgswgs'\n",
    "lst[1:1]"
   ]
  },
  {
   "cell_type": "code",
   "execution_count": 112,
   "metadata": {},
   "outputs": [
    {
     "name": "stdout",
     "output_type": "stream",
     "text": [
      "['a', 'b', 'c', 'd', 'e', 'f', 'g']\n",
      "1\n",
      "[]\n",
      "['b', 'a', 'c', 'd', 'e', 'f', 'g']\n",
      "['b', 'a', 'c', 'd']\n",
      "['b', 'a', 'c', 'd', 'f', 'e', 'g']\n",
      "bacdfeg\n"
     ]
    }
   ],
   "source": [
    "class Solution:\n",
    "   def reverseStr(self, s, k):\n",
    "      l = list(s)\n",
    "      print(l)\n",
    "      i = k-1\n",
    "      print(i)\n",
    "      while i < len(l)+k:\n",
    "         a = l[:i-k+1]\n",
    "         print(a)\n",
    "         b = l[i-k+1:i+1]\n",
    "         c = l[i+1:]\n",
    "         l = a + b[::-1] + c\n",
    "         print(l)\n",
    "         i += 2*k\n",
    "      return ''.join(l)\n",
    "\n",
    "ob = Solution()\n",
    "print(ob.reverseStr(\"abcdefg\", 2))"
   ]
  },
  {
   "cell_type": "code",
   "execution_count": 113,
   "metadata": {},
   "outputs": [
    {
     "data": {
      "text/plain": [
       "'o'"
      ]
     },
     "execution_count": 113,
     "metadata": {},
     "output_type": "execute_result"
    }
   ],
   "source": [
    "'lol'.replace('l', '')"
   ]
  },
  {
   "cell_type": "code",
   "execution_count": 120,
   "metadata": {},
   "outputs": [
    {
     "ename": "IndentationError",
     "evalue": "expected an indented block after 'if' statement on line 12 (3940425064.py, line 19)",
     "output_type": "error",
     "traceback": [
      "\u001b[1;36m  Input \u001b[1;32mIn [120]\u001b[1;36m\u001b[0m\n\u001b[1;33m    return p\u001b[0m\n\u001b[1;37m    ^\u001b[0m\n\u001b[1;31mIndentationError\u001b[0m\u001b[1;31m:\u001b[0m expected an indented block after 'if' statement on line 12\n"
     ]
    }
   ],
   "source": [
    "class Solution(object):\n",
    "    def isMatch(self, s, p):\n",
    "        \"\"\"\n",
    "        :type s: str\n",
    "        :type p: str\n",
    "        :rtype: bool\n",
    "        \"\"\"\n",
    "         \n",
    "        p = p.replace('.*', ',')\n",
    "\n",
    "        all_char, previous_char,single_char = 0, 0, 0\n",
    "\n",
    "        \n",
    "        for i, letter in enumerate(s):\n",
    "\n",
    "            if p[i] != letter:\n",
    "\n",
    "                if p[i] == ',':\n",
    "\n",
    "                    pass\n",
    "                \n",
    "                elif p[i] \n",
    "\n",
    "\n",
    "\n",
    "\n",
    "\n",
    "\n",
    "        return p\n",
    "        "
   ]
  },
  {
   "cell_type": "code",
   "execution_count": 119,
   "metadata": {},
   "outputs": [
    {
     "data": {
      "text/plain": [
       "{'b', 'f', 'g'}"
      ]
     },
     "execution_count": 119,
     "metadata": {},
     "output_type": "execute_result"
    }
   ],
   "source": [
    "Solution().isMatch('sssbfgg', 'a*bfg*')"
   ]
  },
  {
   "cell_type": "code",
   "execution_count": 129,
   "metadata": {},
   "outputs": [
    {
     "data": {
      "text/plain": [
       "{'*', '.', 'g', 's'}"
      ]
     },
     "execution_count": 129,
     "metadata": {},
     "output_type": "execute_result"
    }
   ],
   "source": [
    "a = set('sssbfgg')\n",
    "b = set('.*bf*') \n",
    "b^a"
   ]
  },
  {
   "cell_type": "code",
   "execution_count": 163,
   "metadata": {},
   "outputs": [],
   "source": [
    "class Solution(object):\n",
    "    def isMatch(self, s, p):\n",
    "        #TOP DOWN  Memoization\n",
    "        \"\"\"\n",
    "        :type s: str\n",
    "        :type p: str\n",
    "        :rtype: bool\n",
    "        \"\"\"\n",
    "\n",
    "        def dfs(i, j):\n",
    "\n",
    "            if i >= len(s) and j >= len(p):\n",
    "                return True\n",
    "\n",
    "            if j >= len(p):\n",
    "                return False \n",
    "\n",
    "            match = ( i < len(s)) and (s[i] == p[j] or p[j] == '.')\n",
    "\n",
    "            if (j + 1) < len(p) and p[j + 1] == \"*\":\n",
    "                return (dfs(i, j + 2) | (match and dfs(i + 1, j)))\n",
    "\n",
    "\n",
    "            if match:\n",
    "                return dfs(i+1, j+1)\n",
    "\n",
    "            return False\n",
    "\n",
    "\n",
    "        return dfs(0, 0)              \n",
    "\n",
    "\n"
   ]
  },
  {
   "cell_type": "code",
   "execution_count": 164,
   "metadata": {},
   "outputs": [
    {
     "data": {
      "text/plain": [
       "True"
      ]
     },
     "execution_count": 164,
     "metadata": {},
     "output_type": "execute_result"
    }
   ],
   "source": [
    "Solution().isMatch('sssbfgg', '.*.*')"
   ]
  },
  {
   "cell_type": "code",
   "execution_count": 1,
   "metadata": {},
   "outputs": [
    {
     "name": "stdout",
     "output_type": "stream",
     "text": [
      "Content-Type: text/plain; charset=\"us-ascii\"\n",
      "MIME-Version: 1.0\n",
      "Content-Transfer-Encoding: 7bit\n",
      "Subject: The content\n",
      "From: elyesmah@amazon.com\n",
      "To: elyesmahjoubi@hotmail.com\n",
      "\n",
      "tes\n"
     ]
    },
    {
     "ename": "TimeoutError",
     "evalue": "[WinError 10060] A connection attempt failed because the connected party did not properly respond after a period of time, or established connection failed because connected host has failed to respond",
     "output_type": "error",
     "traceback": [
      "\u001b[1;31m---------------------------------------------------------------------------\u001b[0m",
      "\u001b[1;31mTimeoutError\u001b[0m                              Traceback (most recent call last)",
      "\u001b[1;32mc:\\Users\\elyesmah\\Desktop\\Leetcode\\lol.ipynb Cell 13\u001b[0m in \u001b[0;36m<cell line: 22>\u001b[1;34m()\u001b[0m\n\u001b[0;32m     <a href='vscode-notebook-cell:/c%3A/Users/elyesmah/Desktop/Leetcode/lol.ipynb#X15sZmlsZQ%3D%3D?line=17'>18</a>\u001b[0m \u001b[39mprint\u001b[39m(msg)\n\u001b[0;32m     <a href='vscode-notebook-cell:/c%3A/Users/elyesmah/Desktop/Leetcode/lol.ipynb#X15sZmlsZQ%3D%3D?line=19'>20</a>\u001b[0m \u001b[39m# Send the message via our own SMTP server, but don't include the\u001b[39;00m\n\u001b[0;32m     <a href='vscode-notebook-cell:/c%3A/Users/elyesmah/Desktop/Leetcode/lol.ipynb#X15sZmlsZQ%3D%3D?line=20'>21</a>\u001b[0m \u001b[39m# envelope header.\u001b[39;00m\n\u001b[1;32m---> <a href='vscode-notebook-cell:/c%3A/Users/elyesmah/Desktop/Leetcode/lol.ipynb#X15sZmlsZQ%3D%3D?line=21'>22</a>\u001b[0m s \u001b[39m=\u001b[39m smtplib\u001b[39m.\u001b[39;49mSMTP(\u001b[39m'\u001b[39;49m\u001b[39msmtp-mail.outlook.com\u001b[39;49m\u001b[39m'\u001b[39;49m, \u001b[39m587\u001b[39;49m)\n\u001b[0;32m     <a href='vscode-notebook-cell:/c%3A/Users/elyesmah/Desktop/Leetcode/lol.ipynb#X15sZmlsZQ%3D%3D?line=23'>24</a>\u001b[0m \u001b[39mprint\u001b[39m(s)\n\u001b[0;32m     <a href='vscode-notebook-cell:/c%3A/Users/elyesmah/Desktop/Leetcode/lol.ipynb#X15sZmlsZQ%3D%3D?line=25'>26</a>\u001b[0m s\u001b[39m.\u001b[39msendmail(msg[\u001b[39m'\u001b[39m\u001b[39mFrom\u001b[39m\u001b[39m'\u001b[39m], msg[\u001b[39m'\u001b[39m\u001b[39mTo\u001b[39m\u001b[39m'\u001b[39m], msg\u001b[39m.\u001b[39mas_string())\n",
      "File \u001b[1;32mc:\\Users\\elyesmah\\AppData\\Local\\Programs\\Python\\Python310\\lib\\smtplib.py:255\u001b[0m, in \u001b[0;36mSMTP.__init__\u001b[1;34m(self, host, port, local_hostname, timeout, source_address)\u001b[0m\n\u001b[0;32m    252\u001b[0m \u001b[39mself\u001b[39m\u001b[39m.\u001b[39m_auth_challenge_count \u001b[39m=\u001b[39m \u001b[39m0\u001b[39m\n\u001b[0;32m    254\u001b[0m \u001b[39mif\u001b[39;00m host:\n\u001b[1;32m--> 255\u001b[0m     (code, msg) \u001b[39m=\u001b[39m \u001b[39mself\u001b[39;49m\u001b[39m.\u001b[39;49mconnect(host, port)\n\u001b[0;32m    256\u001b[0m     \u001b[39mif\u001b[39;00m code \u001b[39m!=\u001b[39m \u001b[39m220\u001b[39m:\n\u001b[0;32m    257\u001b[0m         \u001b[39mself\u001b[39m\u001b[39m.\u001b[39mclose()\n",
      "File \u001b[1;32mc:\\Users\\elyesmah\\AppData\\Local\\Programs\\Python\\Python310\\lib\\smtplib.py:341\u001b[0m, in \u001b[0;36mSMTP.connect\u001b[1;34m(self, host, port, source_address)\u001b[0m\n\u001b[0;32m    339\u001b[0m     port \u001b[39m=\u001b[39m \u001b[39mself\u001b[39m\u001b[39m.\u001b[39mdefault_port\n\u001b[0;32m    340\u001b[0m sys\u001b[39m.\u001b[39maudit(\u001b[39m\"\u001b[39m\u001b[39msmtplib.connect\u001b[39m\u001b[39m\"\u001b[39m, \u001b[39mself\u001b[39m, host, port)\n\u001b[1;32m--> 341\u001b[0m \u001b[39mself\u001b[39m\u001b[39m.\u001b[39msock \u001b[39m=\u001b[39m \u001b[39mself\u001b[39;49m\u001b[39m.\u001b[39;49m_get_socket(host, port, \u001b[39mself\u001b[39;49m\u001b[39m.\u001b[39;49mtimeout)\n\u001b[0;32m    342\u001b[0m \u001b[39mself\u001b[39m\u001b[39m.\u001b[39mfile \u001b[39m=\u001b[39m \u001b[39mNone\u001b[39;00m\n\u001b[0;32m    343\u001b[0m (code, msg) \u001b[39m=\u001b[39m \u001b[39mself\u001b[39m\u001b[39m.\u001b[39mgetreply()\n",
      "File \u001b[1;32mc:\\Users\\elyesmah\\AppData\\Local\\Programs\\Python\\Python310\\lib\\smtplib.py:312\u001b[0m, in \u001b[0;36mSMTP._get_socket\u001b[1;34m(self, host, port, timeout)\u001b[0m\n\u001b[0;32m    310\u001b[0m \u001b[39mif\u001b[39;00m \u001b[39mself\u001b[39m\u001b[39m.\u001b[39mdebuglevel \u001b[39m>\u001b[39m \u001b[39m0\u001b[39m:\n\u001b[0;32m    311\u001b[0m     \u001b[39mself\u001b[39m\u001b[39m.\u001b[39m_print_debug(\u001b[39m'\u001b[39m\u001b[39mconnect: to\u001b[39m\u001b[39m'\u001b[39m, (host, port), \u001b[39mself\u001b[39m\u001b[39m.\u001b[39msource_address)\n\u001b[1;32m--> 312\u001b[0m \u001b[39mreturn\u001b[39;00m socket\u001b[39m.\u001b[39;49mcreate_connection((host, port), timeout,\n\u001b[0;32m    313\u001b[0m                                 \u001b[39mself\u001b[39;49m\u001b[39m.\u001b[39;49msource_address)\n",
      "File \u001b[1;32mc:\\Users\\elyesmah\\AppData\\Local\\Programs\\Python\\Python310\\lib\\socket.py:845\u001b[0m, in \u001b[0;36mcreate_connection\u001b[1;34m(address, timeout, source_address)\u001b[0m\n\u001b[0;32m    843\u001b[0m \u001b[39mif\u001b[39;00m err \u001b[39mis\u001b[39;00m \u001b[39mnot\u001b[39;00m \u001b[39mNone\u001b[39;00m:\n\u001b[0;32m    844\u001b[0m     \u001b[39mtry\u001b[39;00m:\n\u001b[1;32m--> 845\u001b[0m         \u001b[39mraise\u001b[39;00m err\n\u001b[0;32m    846\u001b[0m     \u001b[39mfinally\u001b[39;00m:\n\u001b[0;32m    847\u001b[0m         \u001b[39m# Break explicitly a reference cycle\u001b[39;00m\n\u001b[0;32m    848\u001b[0m         err \u001b[39m=\u001b[39m \u001b[39mNone\u001b[39;00m\n",
      "File \u001b[1;32mc:\\Users\\elyesmah\\AppData\\Local\\Programs\\Python\\Python310\\lib\\socket.py:833\u001b[0m, in \u001b[0;36mcreate_connection\u001b[1;34m(address, timeout, source_address)\u001b[0m\n\u001b[0;32m    831\u001b[0m \u001b[39mif\u001b[39;00m source_address:\n\u001b[0;32m    832\u001b[0m     sock\u001b[39m.\u001b[39mbind(source_address)\n\u001b[1;32m--> 833\u001b[0m sock\u001b[39m.\u001b[39;49mconnect(sa)\n\u001b[0;32m    834\u001b[0m \u001b[39m# Break explicitly a reference cycle\u001b[39;00m\n\u001b[0;32m    835\u001b[0m err \u001b[39m=\u001b[39m \u001b[39mNone\u001b[39;00m\n",
      "\u001b[1;31mTimeoutError\u001b[0m: [WinError 10060] A connection attempt failed because the connected party did not properly respond after a period of time, or established connection failed because connected host has failed to respond"
     ]
    }
   ],
   "source": [
    "# Import smtplib for the actual sending function\n",
    "import smtplib\n",
    "\n",
    "# Import the email modules we'll need\n",
    "from email.mime.text import MIMEText\n",
    "\n",
    "# Open a plain text file for reading.  For this example, assume that\n",
    "# the text file contains only ASCII characters.\n",
    "\n",
    "msg = MIMEText('tes')\n",
    "\n",
    "# me == the sender's email address\n",
    "# you == the recipient's email address\n",
    "msg['Subject'] = 'The content'\n",
    "msg['From'] = 'elyesmah@amazon.com'\n",
    "msg['To'] = 'elyesmahjoubi@hotmail.com'\n",
    "\n",
    "print(msg)\n",
    "\n",
    "# Send the message via our own SMTP server, but don't include the\n",
    "# envelope header.\n",
    "s = smtplib.SMTP('smtp-mail.outlook.com', 587)\n",
    "\n",
    "print(s)\n",
    "\n",
    "s.sendmail(msg['From'], msg['To'], msg.as_string())\n",
    "s.quit()"
   ]
  },
  {
   "cell_type": "code",
   "execution_count": 1,
   "metadata": {},
   "outputs": [],
   "source": [
    "import numpy as np"
   ]
  },
  {
   "cell_type": "code",
   "execution_count": 4,
   "metadata": {},
   "outputs": [
    {
     "data": {
      "text/plain": [
       "1.584962500721156"
      ]
     },
     "execution_count": 4,
     "metadata": {},
     "output_type": "execute_result"
    }
   ],
   "source": [
    "np.log2(3)"
   ]
  },
  {
   "cell_type": "code",
   "execution_count": 13,
   "metadata": {},
   "outputs": [],
   "source": [
    "x = np.log2(4/2)"
   ]
  },
  {
   "cell_type": "code",
   "execution_count": 14,
   "metadata": {},
   "outputs": [
    {
     "data": {
      "text/plain": [
       "1.0"
      ]
     },
     "execution_count": 14,
     "metadata": {},
     "output_type": "execute_result"
    }
   ],
   "source": [
    "x"
   ]
  },
  {
   "cell_type": "code",
   "execution_count": 10,
   "metadata": {},
   "outputs": [
    {
     "data": {
      "text/plain": [
       "512"
      ]
     },
     "execution_count": 10,
     "metadata": {},
     "output_type": "execute_result"
    }
   ],
   "source": [
    "2**9"
   ]
  },
  {
   "cell_type": "code",
   "execution_count": 77,
   "metadata": {},
   "outputs": [],
   "source": [
    "class Solution(object):\n",
    "    def reverse(self, x):\n",
    "        \"\"\"\n",
    "        :type x: int\n",
    "        :rtype: int\n",
    "        \"\"\"\n",
    "    \n",
    "        string = str(x)\n",
    "\n",
    "        if '-' in string:\n",
    "            neutralnb = '2147483648'\n",
    "            string = string.replace('-', '')\n",
    "            revstr = string[::-1].lstrip('0')\n",
    "            is_neg = True\n",
    "\n",
    "        else:\n",
    "            neutralnb = '2147483647'\n",
    "            revstr = string[::-1].lstrip('0')\n",
    "            is_neg = False\n",
    "\n",
    "        if len(revstr) > 10 or revstr == '':\n",
    "            return 0\n",
    "\n",
    "        if len(revstr) == 10:    \n",
    "            \n",
    "            for j, char in enumerate(neutralnb):\n",
    "                if int(char) < int(revstr[j]):\n",
    "                    return 0\n",
    "\n",
    "                elif int(char) == int(revstr[j]):\n",
    "                    pass\n",
    "\n",
    "                else:\n",
    "                    break \n",
    "\n",
    "        if is_neg:\n",
    "            revstr = '-' + revstr\n",
    "            \n",
    "        return revstr"
   ]
  },
  {
   "cell_type": "code",
   "execution_count": 78,
   "metadata": {},
   "outputs": [
    {
     "data": {
      "text/plain": [
       "'-2143847412'"
      ]
     },
     "execution_count": 78,
     "metadata": {},
     "output_type": "execute_result"
    }
   ],
   "source": [
    "Solution().reverse(-2147483412)"
   ]
  },
  {
   "cell_type": "code",
   "execution_count": 32,
   "metadata": {},
   "outputs": [
    {
     "data": {
      "text/plain": [
       "'1-'"
      ]
     },
     "execution_count": 32,
     "metadata": {},
     "output_type": "execute_result"
    }
   ],
   "source": [
    "str(-125)[1::-1]"
   ]
  },
  {
   "cell_type": "code",
   "execution_count": 23,
   "metadata": {},
   "outputs": [
    {
     "data": {
      "text/plain": [
       "-4467429754046720938"
      ]
     },
     "execution_count": 23,
     "metadata": {},
     "output_type": "execute_result"
    }
   ],
   "source": [
    "hash('[](){}[]')"
   ]
  },
  {
   "cell_type": "code",
   "execution_count": 25,
   "metadata": {},
   "outputs": [
    {
     "data": {
      "text/plain": [
       "1"
      ]
     },
     "execution_count": 25,
     "metadata": {},
     "output_type": "execute_result"
    }
   ],
   "source": [
    "len({'a':2})"
   ]
  },
  {
   "cell_type": "code",
   "execution_count": 26,
   "metadata": {},
   "outputs": [],
   "source": [
    "char = 'ad'"
   ]
  },
  {
   "cell_type": "code",
   "execution_count": 30,
   "metadata": {},
   "outputs": [
    {
     "data": {
      "text/plain": [
       "True"
      ]
     },
     "execution_count": 30,
     "metadata": {},
     "output_type": "execute_result"
    }
   ],
   "source": [
    "char in ('ad', 'fd')"
   ]
  },
  {
   "cell_type": "code",
   "execution_count": 35,
   "metadata": {},
   "outputs": [
    {
     "data": {
      "text/plain": [
       "dict_keys(['q', 'fs'])"
      ]
     },
     "execution_count": 35,
     "metadata": {},
     "output_type": "execute_result"
    }
   ],
   "source": [
    "{'q': 'f', 'fs': 'gd'}.keys()"
   ]
  },
  {
   "cell_type": "code",
   "execution_count": 37,
   "metadata": {},
   "outputs": [
    {
     "data": {
      "text/plain": [
       "False"
      ]
     },
     "execution_count": 37,
     "metadata": {},
     "output_type": "execute_result"
    }
   ],
   "source": [
    "(len(['ad']) == 0)"
   ]
  },
  {
   "cell_type": "code",
   "execution_count": 1,
   "metadata": {},
   "outputs": [
    {
     "data": {
      "text/plain": [
       "2147483648"
      ]
     },
     "execution_count": 1,
     "metadata": {},
     "output_type": "execute_result"
    }
   ],
   "source": [
    "2**31"
   ]
  },
  {
   "cell_type": "code",
   "execution_count": 1,
   "metadata": {},
   "outputs": [],
   "source": [
    "class Solution(object):\n",
    "    def divide(self, dividend, divisor):\n",
    "        \"\"\"\n",
    "        :type dividend: int\n",
    "        :type divisor: int\n",
    "        :rtype: int\n",
    "        \"\"\"\n",
    "        iterated_sum = 0\n",
    "        quotient = 0\n",
    "\n",
    "        if dividend == 0:\n",
    "            return 0\n",
    "\n",
    "        if divisor == 1:\n",
    "            return dividend \n",
    "\n",
    "        elif divisor == -1 and dividend == -2**31:\n",
    "            return 2**31 - 1    \n",
    "\n",
    "        elif divisor == 1 and dividend > -2**31:\n",
    "            return dividend\n",
    "\n",
    "        if (dividend < 0 and divisor < 0) or (dividend > 0 and divisor > 0):\n",
    "            val = 1\n",
    "            THRESHOLD = 2**31 - 1 \n",
    "        else:\n",
    "            val = -1\n",
    "            THRESHOLD = -2**31\n",
    "\n",
    "        # This allows us to only transpose\n",
    "        # Positive to negative as to fit in\n",
    "        # the bit memory.    \n",
    "\n",
    "        if val == -1:   \n",
    "            # Doesn't go below - 2**31\n",
    "            while dividend < 0 and divisor <= - dividend - iterated_sum  and quotient > THRESHOLD:\n",
    "                quotient = quotient + val\n",
    "                iterated_sum = iterated_sum + divisor\n",
    "\n",
    "            # Doesn't go below - 2**31\n",
    "            while dividend > 0 and divisor >=  - dividend - iterated_sum and quotient > THRESHOLD:\n",
    "                quotient = quotient + val\n",
    "                iterated_sum = iterated_sum + divisor    \n",
    "\n",
    "        else:\n",
    "            # Doesn't go over 2**31 - 1                                  \n",
    "            while dividend < 0 and divisor >= dividend - iterated_sum and quotient < THRESHOLD:\n",
    "                quotient = quotient + val\n",
    "                iterated_sum = iterated_sum + divisor\n",
    "\n",
    "            while dividend > 0 and divisor <= dividend - iterated_sum and quotient < THRESHOLD:\n",
    "                quotient = quotient + val\n",
    "                iterated_sum = iterated_sum + divisor    \n",
    "                  \n",
    "        return quotient\n",
    "\n",
    "    "
   ]
  },
  {
   "cell_type": "code",
   "execution_count": 2,
   "metadata": {},
   "outputs": [],
   "source": [
    "Solution().divide(-2147483648, -2)"
   ]
  },
  {
   "cell_type": "code",
   "execution_count": 34,
   "metadata": {},
   "outputs": [],
   "source": [
    "class Solution(object):\n",
    "    def divide(self, A, B):\n",
    "        if (A == -2147483648 and B == -1): return 2147483647\n",
    "        a, b, res = abs(A), abs(B), 0\n",
    "        for x in range(32)[::-1]:\n",
    "            if (a >> x) - b >= 0:\n",
    "                print(b << x, x)\n",
    "                res += 1 << x\n",
    "                a -= b << x\n",
    "        return res if (A > 0) == (B > 0) else -res"
   ]
  },
  {
   "cell_type": "code",
   "execution_count": 18,
   "metadata": {},
   "outputs": [],
   "source": [
    "class Solution(object):\n",
    "    def divide(self, A, B):\n",
    "\n",
    "        if (A == -2147483648 and B == -1):\n",
    "            return 2147483647      \n",
    "\n",
    "        divided = abs(A)\n",
    "        divisor = abs(B)\n",
    "\n",
    "        multi = 0\n",
    "        output = 0 \n",
    "\n",
    "        while divided >= divisor:\n",
    "            divided = divided - divisor\n",
    "            multi = 1\n",
    "            temp = divisor\n",
    "            while divided >= divisor:\n",
    "                divided = divided - temp\n",
    "                output = output + multi\n",
    "                temp = temp + temp\n",
    "\n",
    "        if(A < 0 and B > 0) or (A > 0 and B < 0):\n",
    "            output = - multi \n",
    "\n",
    "        else:\n",
    "            output = multi\n",
    "\n",
    "        return output   "
   ]
  },
  {
   "cell_type": "code",
   "execution_count": 19,
   "metadata": {},
   "outputs": [
    {
     "ename": "UnboundLocalError",
     "evalue": "local variable 'output' referenced before assignment",
     "output_type": "error",
     "traceback": [
      "\u001b[1;31m---------------------------------------------------------------------------\u001b[0m",
      "\u001b[1;31mUnboundLocalError\u001b[0m                         Traceback (most recent call last)",
      "\u001b[1;32mc:\\Users\\elyesmah\\Desktop\\Leetcode\\test.ipynb Cell 38\u001b[0m in \u001b[0;36m<cell line: 1>\u001b[1;34m()\u001b[0m\n\u001b[1;32m----> <a href='vscode-notebook-cell:/c%3A/Users/elyesmah/Desktop/Leetcode/test.ipynb#X52sZmlsZQ%3D%3D?line=0'>1</a>\u001b[0m Solution()\u001b[39m.\u001b[39;49mdivide(\u001b[39m2147483641\u001b[39;49m, \u001b[39m1\u001b[39;49m)\n",
      "\u001b[1;32mc:\\Users\\elyesmah\\Desktop\\Leetcode\\test.ipynb Cell 38\u001b[0m in \u001b[0;36mSolution.divide\u001b[1;34m(self, A, B)\u001b[0m\n\u001b[0;32m     <a href='vscode-notebook-cell:/c%3A/Users/elyesmah/Desktop/Leetcode/test.ipynb#X52sZmlsZQ%3D%3D?line=15'>16</a>\u001b[0m     \u001b[39mwhile\u001b[39;00m divided \u001b[39m>\u001b[39m\u001b[39m=\u001b[39m divisor:\n\u001b[0;32m     <a href='vscode-notebook-cell:/c%3A/Users/elyesmah/Desktop/Leetcode/test.ipynb#X52sZmlsZQ%3D%3D?line=16'>17</a>\u001b[0m         divided \u001b[39m=\u001b[39m divided \u001b[39m-\u001b[39m temp\n\u001b[1;32m---> <a href='vscode-notebook-cell:/c%3A/Users/elyesmah/Desktop/Leetcode/test.ipynb#X52sZmlsZQ%3D%3D?line=17'>18</a>\u001b[0m         output \u001b[39m=\u001b[39m output \u001b[39m+\u001b[39m multi\n\u001b[0;32m     <a href='vscode-notebook-cell:/c%3A/Users/elyesmah/Desktop/Leetcode/test.ipynb#X52sZmlsZQ%3D%3D?line=18'>19</a>\u001b[0m         temp \u001b[39m=\u001b[39m temp \u001b[39m+\u001b[39m temp\n\u001b[0;32m     <a href='vscode-notebook-cell:/c%3A/Users/elyesmah/Desktop/Leetcode/test.ipynb#X52sZmlsZQ%3D%3D?line=20'>21</a>\u001b[0m \u001b[39mif\u001b[39;00m(A \u001b[39m<\u001b[39m \u001b[39m0\u001b[39m \u001b[39mand\u001b[39;00m B \u001b[39m>\u001b[39m \u001b[39m0\u001b[39m) \u001b[39mor\u001b[39;00m (A \u001b[39m>\u001b[39m \u001b[39m0\u001b[39m \u001b[39mand\u001b[39;00m B \u001b[39m<\u001b[39m \u001b[39m0\u001b[39m):\n",
      "\u001b[1;31mUnboundLocalError\u001b[0m: local variable 'output' referenced before assignment"
     ]
    }
   ],
   "source": [
    "Solution().divide(2147483641, 1)"
   ]
  },
  {
   "cell_type": "code",
   "execution_count": 20,
   "metadata": {},
   "outputs": [
    {
     "data": {
      "text/plain": [
       "2147483648"
      ]
     },
     "execution_count": 20,
     "metadata": {},
     "output_type": "execute_result"
    }
   ],
   "source": [
    "a << 31"
   ]
  },
  {
   "cell_type": "code",
   "execution_count": 28,
   "metadata": {},
   "outputs": [
    {
     "data": {
      "text/plain": [
       "1"
      ]
     },
     "execution_count": 28,
     "metadata": {},
     "output_type": "execute_result"
    }
   ],
   "source": [
    "15 >> 3"
   ]
  },
  {
   "cell_type": "code",
   "execution_count": null,
   "metadata": {},
   "outputs": [],
   "source": []
  }
 ],
 "metadata": {
  "kernelspec": {
   "display_name": "Python 3.10.4 64-bit",
   "language": "python",
   "name": "python3"
  },
  "language_info": {
   "codemirror_mode": {
    "name": "ipython",
    "version": 3
   },
   "file_extension": ".py",
   "mimetype": "text/x-python",
   "name": "python",
   "nbconvert_exporter": "python",
   "pygments_lexer": "ipython3",
   "version": "3.10.4"
  },
  "orig_nbformat": 4,
  "vscode": {
   "interpreter": {
    "hash": "bd4a15cb9a6a016812beaff6b960bfdc98393b085b41f63fe4ba2b973a599904"
   }
  }
 },
 "nbformat": 4,
 "nbformat_minor": 2
}
